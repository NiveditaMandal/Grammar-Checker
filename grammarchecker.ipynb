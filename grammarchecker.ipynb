{
  "nbformat": 4,
  "nbformat_minor": 0,
  "metadata": {
    "colab": {
      "name": "grammarchecker.ipynb",
      "provenance": [],
      "collapsed_sections": [],
      "include_colab_link": true
    },
    "kernelspec": {
      "name": "python3",
      "display_name": "Python 3"
    },
    "language_info": {
      "name": "python"
    }
  },
  "cells": [
    {
      "cell_type": "markdown",
      "metadata": {
        "id": "view-in-github",
        "colab_type": "text"
      },
      "source": [
        "<a href=\"https://colab.research.google.com/github/NiveditaMandal/Grammar-Checker/blob/main/grammarchecker.ipynb\" target=\"_parent\"><img src=\"https://colab.research.google.com/assets/colab-badge.svg\" alt=\"Open In Colab\"/></a>"
      ]
    },
    {
      "cell_type": "markdown",
      "metadata": {
        "id": "Wljuo8bPKnIz"
      },
      "source": [
        "# **Automate Identification of semantics error for enabling errorless proof reading**"
      ]
    },
    {
      "cell_type": "markdown",
      "metadata": {
        "id": "xkCx0mWPLLFe"
      },
      "source": [
        "# **This project is made by NIVEDITA MANDAL**"
      ]
    },
    {
      "cell_type": "markdown",
      "metadata": {
        "id": "N5kQa6syLM8M"
      },
      "source": [
        "# **GRAMMAR CHECKER**"
      ]
    },
    {
      "cell_type": "markdown",
      "metadata": {
        "id": "NVjT2uIZLNTZ"
      },
      "source": [
        "<center><div class=\"panel panel-primary\" style=\"width:20px;\">\n",
        "<div class=\"panel-h\" style=\"font-size:20px;font-weight:bold;\"><center><center></div>\n",
        "</div></center> <h1> A machine learning algorithms with an aim to first detect the grammatical errors and contextual errors from a given sentence or paragraph and then recognize the same. <h1>   "
      ]
    },
    {
      "cell_type": "code",
      "metadata": {
        "colab": {
          "base_uri": "https://localhost:8080/"
        },
        "id": "JWQBRtSvV9IS",
        "outputId": "d6e6e98a-582d-4fa8-801f-5c4b303bbb4a"
      },
      "source": [
        "pip install gingerit"
      ],
      "execution_count": null,
      "outputs": [
        {
          "output_type": "stream",
          "text": [
            "Collecting gingerit\n",
            "  Downloading gingerit-0.8.2-py3-none-any.whl (3.3 kB)\n",
            "Collecting requests<3.0.0,>=2.25.1\n",
            "  Downloading requests-2.26.0-py2.py3-none-any.whl (62 kB)\n",
            "\u001b[?25l\r\u001b[K     |█████▎                          | 10 kB 17.1 MB/s eta 0:00:01\r\u001b[K     |██████████▌                     | 20 kB 22.2 MB/s eta 0:00:01\r\u001b[K     |███████████████▉                | 30 kB 25.5 MB/s eta 0:00:01\r\u001b[K     |█████████████████████           | 40 kB 29.2 MB/s eta 0:00:01\r\u001b[K     |██████████████████████████▎     | 51 kB 15.7 MB/s eta 0:00:01\r\u001b[K     |███████████████████████████████▋| 61 kB 17.7 MB/s eta 0:00:01\r\u001b[K     |████████████████████████████████| 62 kB 561 kB/s \n",
            "\u001b[?25hRequirement already satisfied: certifi>=2017.4.17 in /usr/local/lib/python3.7/dist-packages (from requests<3.0.0,>=2.25.1->gingerit) (2021.5.30)\n",
            "Requirement already satisfied: urllib3<1.27,>=1.21.1 in /usr/local/lib/python3.7/dist-packages (from requests<3.0.0,>=2.25.1->gingerit) (1.24.3)\n",
            "Requirement already satisfied: charset-normalizer~=2.0.0 in /usr/local/lib/python3.7/dist-packages (from requests<3.0.0,>=2.25.1->gingerit) (2.0.4)\n",
            "Requirement already satisfied: idna<4,>=2.5 in /usr/local/lib/python3.7/dist-packages (from requests<3.0.0,>=2.25.1->gingerit) (2.10)\n",
            "Installing collected packages: requests, gingerit\n",
            "  Attempting uninstall: requests\n",
            "    Found existing installation: requests 2.23.0\n",
            "    Uninstalling requests-2.23.0:\n",
            "      Successfully uninstalled requests-2.23.0\n",
            "\u001b[31mERROR: pip's dependency resolver does not currently take into account all the packages that are installed. This behaviour is the source of the following dependency conflicts.\n",
            "google-colab 1.0.0 requires requests~=2.23.0, but you have requests 2.26.0 which is incompatible.\n",
            "datascience 0.10.6 requires folium==0.2.1, but you have folium 0.8.3 which is incompatible.\u001b[0m\n",
            "Successfully installed gingerit-0.8.2 requests-2.26.0\n"
          ],
          "name": "stdout"
        }
      ]
    },
    {
      "cell_type": "code",
      "metadata": {
        "colab": {
          "base_uri": "https://localhost:8080/",
          "height": 35
        },
        "id": "V4j2OYD7WgyR",
        "outputId": "1e0b9051-8a7a-4f4c-9280-d04e6b4f060e"
      },
      "source": [
        "from gingerit.gingerit import GingerIt\n",
        "\n",
        "text = 'Good morning evryne'\n",
        "\n",
        "parser = GingerIt()\n",
        "res=parser.parse(text)\n",
        "\n",
        "res['result']"
      ],
      "execution_count": null,
      "outputs": [
        {
          "output_type": "execute_result",
          "data": {
            "application/vnd.google.colaboratory.intrinsic+json": {
              "type": "string"
            },
            "text/plain": [
              "'Good morning everyone'"
            ]
          },
          "metadata": {},
          "execution_count": 2
        }
      ]
    },
    {
      "cell_type": "code",
      "metadata": {
        "colab": {
          "base_uri": "https://localhost:8080/",
          "height": 35
        },
        "id": "qJ9QMEPRWqZF",
        "outputId": "eabcb8df-02d1-4b5b-a426-d77fd50774ac"
      },
      "source": [
        "text2 = 'Have a niice dayy'\n",
        "\n",
        "parser = GingerIt()\n",
        "res=parser.parse(text2)\n",
        "\n",
        "res['result']"
      ],
      "execution_count": null,
      "outputs": [
        {
          "output_type": "execute_result",
          "data": {
            "application/vnd.google.colaboratory.intrinsic+json": {
              "type": "string"
            },
            "text/plain": [
              "'Have a nice day'"
            ]
          },
          "metadata": {},
          "execution_count": 3
        }
      ]
    },
    {
      "cell_type": "code",
      "metadata": {
        "id": "zirubGMRXYc5",
        "colab": {
          "base_uri": "https://localhost:8080/",
          "height": 35
        },
        "outputId": "7495c917-4d67-4411-e54e-531b1cdb750e"
      },
      "source": [
        "text3 = 'She looks beautifully'\n",
        "\n",
        "parser = GingerIt()\n",
        "res=parser.parse(text3)\n",
        "\n",
        "res['result']"
      ],
      "execution_count": null,
      "outputs": [
        {
          "output_type": "execute_result",
          "data": {
            "application/vnd.google.colaboratory.intrinsic+json": {
              "type": "string"
            },
            "text/plain": [
              "'She looks beautiful'"
            ]
          },
          "metadata": {},
          "execution_count": 4
        }
      ]
    },
    {
      "cell_type": "code",
      "metadata": {
        "colab": {
          "base_uri": "https://localhost:8080/",
          "height": 35
        },
        "id": "YqWLH_nDJdQC",
        "outputId": "9e4d137b-4213-42c8-c57b-3058b35f91a0"
      },
      "source": [
        "text4 = 'He went to to the market'\n",
        "\n",
        "parser = GingerIt()\n",
        "res=parser.parse(text4)\n",
        "\n",
        "res['result']"
      ],
      "execution_count": null,
      "outputs": [
        {
          "output_type": "execute_result",
          "data": {
            "application/vnd.google.colaboratory.intrinsic+json": {
              "type": "string"
            },
            "text/plain": [
              "'He went to the market'"
            ]
          },
          "metadata": {},
          "execution_count": 5
        }
      ]
    },
    {
      "cell_type": "code",
      "metadata": {
        "id": "eWlxYSasKLAj",
        "colab": {
          "base_uri": "https://localhost:8080/",
          "height": 86
        },
        "outputId": "02500c67-8afb-46c0-a302-f98134f5c4bf"
      },
      "source": [
        "text5 = 'republic Day is celebrate on 26th January . Republicc Day commemorates the date on which the Consttution of india came into force replacing the government of India Act 1935 as the governing document of India on 26 January 1950.Republic Day is one of the three national holidays in India. In New Delhi, a special parade is held on this day. The President of India takes the salute. A procession starts from Vijay Chowk. All the three wings oof the armed forces take part in the parade.Flags hoisting ceremonies and cultural prograams take plaace in all the state capitals.'\n",
        "\n",
        "parser = GingerIt()\n",
        "res=parser.parse(text5)\n",
        "\n",
        "res['result']"
      ],
      "execution_count": null,
      "outputs": [
        {
          "output_type": "execute_result",
          "data": {
            "application/vnd.google.colaboratory.intrinsic+json": {
              "type": "string"
            },
            "text/plain": [
              "'Republic Day is celebrated on 26th January. Republic Day commemorates the date on which the Constitution of India came into force replacing the government of India Act 1935 as the governing document of India on 26 January 1950. Republic Day is one of the three national holidays in India. In New Delhi, a special parade is held on this day. The President of India takes the salute. A procession starts from Vijay Chowk. All the three wings of the armed forces take part in the parade. Flag hoisting ceremonies and cultural programs take place in all the state capitals.'"
            ]
          },
          "metadata": {},
          "execution_count": 6
        }
      ]
    },
    {
      "cell_type": "markdown",
      "metadata": {
        "id": "StfXuuHGLw6G"
      },
      "source": [
        "**EXAMPLES:**\n",
        "***A 98 words paragraph on the topic \"Republic Day\".***\n",
        "\n",
        "Note:The words which are hiligted in the ORIGINAL TEXT shows that it has an error.CORRECTED TEXT contains the errorless paragraph.\n",
        "\n",
        "*ORIGINAL TEXT:*  **republic** Day is **celebrate** on 26th January . **Republicc** Day commemorates the date on which the **Consttution** of **india** came into force replacing the government of India Act 1935 as the governing document of India on 26 January 1950.Republic Day is one of the three national holidays in India. In New Delhi, a special parade is held on this day. The President of India takes the salute. A procession starts from Vijay Chowk. All the three wings **oof** the armed forces take part in the parade.**Flags** hoisting ceremonies and cultural **prograams** take **plaace** in all the state capitals.\n",
        "\n",
        "*CORRECTED TEXT:*  Republic Day is celebrated on 26th January. Republic Day commemorates the date on which the Constitution of India came into force replacing the government of India Act 1935 as the governing document of India on 26 January 1950.Republic Day is one of the three national holidays in India. In New Delhi, a special parade is held on this day. The President of India takes the salute. A procession starts from Vijay Chowk. All the three wings of the armed forces take part in the parade. Flag hoisting ceremonies and cultural programs take place in all the state capitals.\n",
        "\n",
        "These are the examples with original text and corrected text.\n",
        "\n",
        "1)\n",
        "\n",
        "ORIGINAL TEXT: **i** **am** **nnnot okka**.\n",
        "\n",
        "CORRECTED TEXT:   I am not okay.\n",
        "\n",
        "2)\n",
        "\n",
        "ORIGINAL TEXT: **english is not so that** very **eassy**.\n",
        "\n",
        "CORRECTED TEXT:   English, so that is not very easy.\n",
        "\n",
        "3)\n",
        "\n",
        "ORIGINAL TEXT: **wer** do you go to **scul**?\n",
        "\n",
        "CORRECTED TEXT:   Where do you go to school?\n",
        "\n",
        "4)\n",
        "\n",
        "ORIGINAL TEXT: **good** for people who are English learners.\n",
        "\n",
        "CORRECTED TEXT:   Good for people who are English learners.\n",
        "\n",
        "5)\n",
        "\n",
        "ORIGINAL TEXT: My **coussin** is very picky about the restaurants he dines in.\n",
        "\n",
        "CORRECTED TEXT:   My cousin is very picky about the restaurants he dines in.\n",
        "\n",
        "6)\n",
        "\n",
        "ORIGINAL TEXT: There are two very good **reason** for this.\n",
        "\n",
        "CORRECTED TEXT:   There are two very good reasons for this.\n",
        "\n",
        "7)\n",
        "\n",
        "ORIGINAL TEXT: I want to **rid** a camel.\n",
        "\n",
        "CORRECTED TEXT:   I want to ride a camel.\n",
        "\n",
        "8)\n",
        "\n",
        "ORIGINAL TEXT: I want to **rid** a camel.\n",
        "\n",
        "CORRECTED TEXT:   I want to ride a camel.\n",
        "\n",
        "9)\n",
        "\n",
        "ORIGINAL TEXT: The **bed room** is comfortable.\n",
        "\n",
        "CORRECTED TEXT:   The bedroom is comfortable.\n",
        "\n",
        "10)\n",
        "\n",
        "ORIGINAL TEXT: The **colour** purple is my favorite.\n",
        "\n",
        "CORRECTED TEXT:   The color purple is my favorite.\n",
        "\n",
        "11)\n",
        "\n",
        "ORIGINAL TEXT: My friend **john** is not well today.\n",
        "\n",
        "CORRECTED TEXT:   My friend John is not well today.\n",
        "\n",
        "12)\n",
        "\n",
        "ORIGINAL TEXT: I went **to to** the store.\n",
        "\n",
        "CORRECTED TEXT:   I went to the store.\n",
        "\n",
        "13)\n",
        "\n",
        "ORIGINAL TEXT: John is studying for **a** MBA degree.\n",
        "\n",
        "CORRECTED TEXT:   John is studying for an MBA degree.\n",
        "\n",
        "14)\n",
        "\n",
        "ORIGINAL TEXT: I had **time** of my life on this vacation.\n",
        "\n",
        "CORRECTED TEXT:   I had the time of my life on this vacation.\n",
        "\n",
        "15)\n",
        "\n",
        "ORIGINAL TEXT: Sheryl went to the **tickets** office.\n",
        "\n",
        "CORRECTED TEXT:   Sheryl went to the ticket office.\n",
        "\n",
        "16)\n",
        "\n",
        "ORIGINAL TEXT: We bought a number of **item**.\n",
        "\n",
        "CORRECTED TEXT:   We bought a number of items.\n",
        "\n",
        "17)\n",
        "\n",
        "ORIGINAL TEXT: I need **you** help.\n",
        "\n",
        "CORRECTED TEXT:   I need your help.\n",
        "\n",
        "18)\n",
        "\n",
        "ORIGINAL TEXT: This movie is **bad** than anything I have seen.\n",
        "\n",
        "CORRECTED TEXT:   This movie is worse than anything I have seen.\n",
        "\n",
        "19)\n",
        "\n",
        "ORIGINAL TEXT: It is important to **submitted** the paper on time.\n",
        "\n",
        "CORRECTED TEXT:   It is important to submit the paper on time.\n",
        "\n",
        "20)\n",
        "\n",
        "ORIGINAL TEXT: The battery **is lasting** for only two hours.\n",
        "\n",
        "CORRECTED TEXT:   The battery lasts for only two hours.\n"
      ]
    }
  ]
}