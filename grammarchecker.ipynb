pip install gingerit
from gingerit.gingerit import GingerIt

text = 'Good morning evryne'

parser = GingerIt()
res=parser.parse(text)

res['result']
